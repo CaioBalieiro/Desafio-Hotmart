{
 "cells": [
  {
   "cell_type": "markdown",
   "id": "06dd8fe5",
   "metadata": {},
   "source": [
    "# Carregando da Hotmart"
   ]
  },
  {
   "cell_type": "markdown",
   "id": "d156b204",
   "metadata": {},
   "source": [
    "### Biblioteca Instaladas"
   ]
  },
  {
   "cell_type": "code",
   "execution_count": 39,
   "id": "a7b1c3af",
   "metadata": {},
   "outputs": [],
   "source": [
    "#!pip3 install mysql-connector-python"
   ]
  },
  {
   "cell_type": "markdown",
   "id": "62174d6a",
   "metadata": {},
   "source": [
    "### Bibliotecas utilizadas"
   ]
  },
  {
   "cell_type": "code",
   "execution_count": 1,
   "id": "0b5f7bd2",
   "metadata": {},
   "outputs": [],
   "source": [
    "import pandas as pd\n",
    "import numpy as np\n",
    "import mysql.connector\n",
    "import mysql.connector as sql\n",
    "import sqlite3\n",
    "import seaborn as sns\n",
    "import plotly.express as px"
   ]
  },
  {
   "cell_type": "markdown",
   "id": "736a1896",
   "metadata": {},
   "source": [
    "### Carregando o banco de dados para as análises"
   ]
  },
  {
   "cell_type": "code",
   "execution_count": 19,
   "id": "9e59c4dc",
   "metadata": {},
   "outputs": [],
   "source": [
    "conn = mysql.connector.connect(host='interview-2.ck1h5ksgzpiq.us-east-1.rds.amazonaws.com'\\\n",
    "                                        , user='admin', password='0WHPq8U2yJ9JgHVjsRBM', database='innodb')"
   ]
  },
  {
   "cell_type": "code",
   "execution_count": 20,
   "id": "10b68299",
   "metadata": {},
   "outputs": [
    {
     "name": "stderr",
     "output_type": "stream",
     "text": [
      "C:\\Users\\CaioBalieiro\\anaconda3\\lib\\site-packages\\pandas\\io\\sql.py:761: UserWarning: pandas only support SQLAlchemy connectable(engine/connection) ordatabase string URI or sqlite3 DBAPI2 connectionother DBAPI2 objects are not tested, please consider using SQLAlchemy\n",
      "  warnings.warn(\n"
     ]
    }
   ],
   "source": [
    "# # Extraindo o conjunto de dados \n",
    " df =  pd.read_sql(\"SELECT * FROM sales_data\",conn)"
   ]
  },
  {
   "cell_type": "code",
   "execution_count": 22,
   "id": "433e49f4",
   "metadata": {},
   "outputs": [],
   "source": [
    "df.to_csv('hotmart.csv')"
   ]
  },
  {
   "cell_type": "markdown",
   "id": "74e3be2d",
   "metadata": {},
   "source": [
    "## Análise do conjunto de dados de sales_data"
   ]
  },
  {
   "cell_type": "code",
   "execution_count": 3,
   "id": "8444ef1a",
   "metadata": {},
   "outputs": [],
   "source": [
    "df = pd.read_csv('hotmart.csv')\n",
    "df.drop(columns = 'Unnamed: 0', inplace =True)"
   ]
  },
  {
   "cell_type": "code",
   "execution_count": 6,
   "id": "77c11ea0",
   "metadata": {},
   "outputs": [],
   "source": [
    "#df.to_parquet('hotmart.parquet')"
   ]
  },
  {
   "cell_type": "markdown",
   "id": "f3b6fbac",
   "metadata": {},
   "source": [
    "# Análises descritivas em geral"
   ]
  },
  {
   "cell_type": "code",
   "execution_count": 4,
   "id": "605609bd",
   "metadata": {},
   "outputs": [
    {
     "name": "stdout",
     "output_type": "stream",
     "text": [
      "<class 'pandas.core.frame.DataFrame'>\n",
      "RangeIndex: 1561437 entries, 0 to 1561436\n",
      "Data columns (total 17 columns):\n",
      " #   Column                           Non-Null Count    Dtype  \n",
      "---  ------                           --------------    -----  \n",
      " 0   purchase_id                      1561437 non-null  int64  \n",
      " 1   product_id                       1561437 non-null  int64  \n",
      " 2   affiliate_id                     1561437 non-null  int64  \n",
      " 3   producer_id                      1561437 non-null  int64  \n",
      " 4   buyer_id                         1561437 non-null  int64  \n",
      " 5   purchase_date                    1561437 non-null  object \n",
      " 6   product_creation_date            1561437 non-null  object \n",
      " 7   product_category                 1561437 non-null  object \n",
      " 8   product_niche                    1561437 non-null  object \n",
      " 9   purchase_value                   1561437 non-null  float64\n",
      " 10  affiliate_commission_percentual  1561437 non-null  float64\n",
      " 11  purchase_device                  1561437 non-null  object \n",
      " 12  purchase_origin                  1561437 non-null  object \n",
      " 13  is_origin_page_social_network    1561437 non-null  object \n",
      " 14  class_faturamento                1561437 non-null  object \n",
      " 15  peso_faturamento                 1561437 non-null  int64  \n",
      " 16  score_faturamento                1561437 non-null  int64  \n",
      "dtypes: float64(2), int64(7), object(8)\n",
      "memory usage: 202.5+ MB\n"
     ]
    }
   ],
   "source": [
    "df.info()"
   ]
  },
  {
   "cell_type": "markdown",
   "id": "d63fd88b",
   "metadata": {},
   "source": [
    "# Product_niche"
   ]
  },
  {
   "cell_type": "code",
   "execution_count": 23,
   "id": "3a674d8f",
   "metadata": {},
   "outputs": [
    {
     "data": {
      "text/html": [
       "<div>\n",
       "<style scoped>\n",
       "    .dataframe tbody tr th:only-of-type {\n",
       "        vertical-align: middle;\n",
       "    }\n",
       "\n",
       "    .dataframe tbody tr th {\n",
       "        vertical-align: top;\n",
       "    }\n",
       "\n",
       "    .dataframe thead th {\n",
       "        text-align: right;\n",
       "    }\n",
       "</style>\n",
       "<table border=\"1\" class=\"dataframe\">\n",
       "  <thead>\n",
       "    <tr style=\"text-align: right;\">\n",
       "      <th></th>\n",
       "      <th>product_niche</th>\n",
       "    </tr>\n",
       "  </thead>\n",
       "  <tbody>\n",
       "    <tr>\n",
       "      <th>Negotiation</th>\n",
       "      <td>273174</td>\n",
       "    </tr>\n",
       "    <tr>\n",
       "      <th>Anxiety management</th>\n",
       "      <td>246679</td>\n",
       "    </tr>\n",
       "    <tr>\n",
       "      <th>Personal finance</th>\n",
       "      <td>180382</td>\n",
       "    </tr>\n",
       "    <tr>\n",
       "      <th>Presentation skills</th>\n",
       "      <td>135435</td>\n",
       "    </tr>\n",
       "    <tr>\n",
       "      <th>Immigration</th>\n",
       "      <td>95510</td>\n",
       "    </tr>\n",
       "  </tbody>\n",
       "</table>\n",
       "</div>"
      ],
      "text/plain": [
       "                     product_niche\n",
       "Negotiation                 273174\n",
       "Anxiety management          246679\n",
       "Personal finance            180382\n",
       "Presentation skills         135435\n",
       "Immigration                  95510"
      ]
     },
     "execution_count": 23,
     "metadata": {},
     "output_type": "execute_result"
    }
   ],
   "source": [
    "registro = pd.DataFrame(df['product_niche'].value_counts().head(5))\n",
    "registro"
   ]
  },
  {
   "cell_type": "code",
   "execution_count": 47,
   "id": "568aade5",
   "metadata": {},
   "outputs": [
    {
     "data": {
      "text/html": [
       "<div>\n",
       "<style scoped>\n",
       "    .dataframe tbody tr th:only-of-type {\n",
       "        vertical-align: middle;\n",
       "    }\n",
       "\n",
       "    .dataframe tbody tr th {\n",
       "        vertical-align: top;\n",
       "    }\n",
       "\n",
       "    .dataframe thead th {\n",
       "        text-align: right;\n",
       "    }\n",
       "</style>\n",
       "<table border=\"1\" class=\"dataframe\">\n",
       "  <thead>\n",
       "    <tr style=\"text-align: right;\">\n",
       "      <th></th>\n",
       "      <th>index</th>\n",
       "      <th>product_niche</th>\n",
       "      <th>Porcentagem</th>\n",
       "    </tr>\n",
       "  </thead>\n",
       "  <tbody>\n",
       "    <tr>\n",
       "      <th>0</th>\n",
       "      <td>Negotiation</td>\n",
       "      <td>273174</td>\n",
       "      <td>29.336326</td>\n",
       "    </tr>\n",
       "    <tr>\n",
       "      <th>1</th>\n",
       "      <td>Anxiety management</td>\n",
       "      <td>246679</td>\n",
       "      <td>26.491011</td>\n",
       "    </tr>\n",
       "    <tr>\n",
       "      <th>2</th>\n",
       "      <td>Personal finance</td>\n",
       "      <td>180382</td>\n",
       "      <td>19.371335</td>\n",
       "    </tr>\n",
       "    <tr>\n",
       "      <th>3</th>\n",
       "      <td>Presentation skills</td>\n",
       "      <td>135435</td>\n",
       "      <td>14.544449</td>\n",
       "    </tr>\n",
       "    <tr>\n",
       "      <th>4</th>\n",
       "      <td>Immigration</td>\n",
       "      <td>95510</td>\n",
       "      <td>10.256878</td>\n",
       "    </tr>\n",
       "  </tbody>\n",
       "</table>\n",
       "</div>"
      ],
      "text/plain": [
       "                 index  product_niche  Porcentagem\n",
       "0          Negotiation         273174    29.336326\n",
       "1   Anxiety management         246679    26.491011\n",
       "2     Personal finance         180382    19.371335\n",
       "3  Presentation skills         135435    14.544449\n",
       "4          Immigration          95510    10.256878"
      ]
     },
     "execution_count": 47,
     "metadata": {},
     "output_type": "execute_result"
    }
   ],
   "source": [
    "registro = pd.DataFrame(df['product_niche'].value_counts().head(5).reset_index())\n",
    "freq = np.array(df['product_niche'].value_counts().head(5)/ df['product_niche'].value_counts().head(5).sum())\n",
    "registro['Porcentagem'] = freq *100\n",
    "registro"
   ]
  },
  {
   "cell_type": "code",
   "execution_count": 52,
   "id": "9de0eef4",
   "metadata": {},
   "outputs": [
    {
     "data": {
      "image/png": "[encoded data removed]",
      "text/plain": [
       "<Figure size 432x432 with 1 Axes>"
      ]
     },
     "metadata": {},
     "output_type": "display_data"
    }
   ],
   "source": [
    "labels = registro['index']\n",
    "explode = (0, 0.1, 0, 0,0) \n",
    "fig1, ax1 = plt.subplots(figsize=(6, 6))\n",
    "ax1.pie(registro['Porcentagem'], explode=explode, labels=labels, autopct='%1.1f%%',\n",
    "       shadow=True, startangle=90)  \n",
    ";\n",
    "plt.savefig('foo.png')"
   ]
  },
  {
   "cell_type": "markdown",
   "id": "f4cc9211",
   "metadata": {},
   "source": [
    "# Feature product_category"
   ]
  },
  {
   "cell_type": "code",
   "execution_count": 53,
   "id": "c069ba61",
   "metadata": {},
   "outputs": [
    {
     "data": {
      "text/html": [
       "<div>\n",
       "<style scoped>\n",
       "    .dataframe tbody tr th:only-of-type {\n",
       "        vertical-align: middle;\n",
       "    }\n",
       "\n",
       "    .dataframe tbody tr th {\n",
       "        vertical-align: top;\n",
       "    }\n",
       "\n",
       "    .dataframe thead th {\n",
       "        text-align: right;\n",
       "    }\n",
       "</style>\n",
       "<table border=\"1\" class=\"dataframe\">\n",
       "  <thead>\n",
       "    <tr style=\"text-align: right;\">\n",
       "      <th></th>\n",
       "      <th>product_category</th>\n",
       "    </tr>\n",
       "  </thead>\n",
       "  <tbody>\n",
       "    <tr>\n",
       "      <th>Phisical book</th>\n",
       "      <td>1298492</td>\n",
       "    </tr>\n",
       "    <tr>\n",
       "      <th>Podcast</th>\n",
       "      <td>216222</td>\n",
       "    </tr>\n",
       "    <tr>\n",
       "      <th>Workshop</th>\n",
       "      <td>36568</td>\n",
       "    </tr>\n",
       "    <tr>\n",
       "      <th>eBook</th>\n",
       "      <td>3955</td>\n",
       "    </tr>\n",
       "    <tr>\n",
       "      <th>Subscription</th>\n",
       "      <td>1970</td>\n",
       "    </tr>\n",
       "  </tbody>\n",
       "</table>\n",
       "</div>"
      ],
      "text/plain": [
       "               product_category\n",
       "Phisical book           1298492\n",
       "Podcast                  216222\n",
       "Workshop                  36568\n",
       "eBook                      3955\n",
       "Subscription               1970"
      ]
     },
     "execution_count": 53,
     "metadata": {},
     "output_type": "execute_result"
    }
   ],
   "source": [
    "registro1 = pd.DataFrame(df['product_category'].value_counts().head(5))\n",
    "registro1"
   ]
  },
  {
   "cell_type": "code",
   "execution_count": 68,
   "id": "4fe4dd42",
   "metadata": {},
   "outputs": [
    {
     "data": {
      "text/html": [
       "<div>\n",
       "<style scoped>\n",
       "    .dataframe tbody tr th:only-of-type {\n",
       "        vertical-align: middle;\n",
       "    }\n",
       "\n",
       "    .dataframe tbody tr th {\n",
       "        vertical-align: top;\n",
       "    }\n",
       "\n",
       "    .dataframe thead th {\n",
       "        text-align: right;\n",
       "    }\n",
       "</style>\n",
       "<table border=\"1\" class=\"dataframe\">\n",
       "  <thead>\n",
       "    <tr style=\"text-align: right;\">\n",
       "      <th></th>\n",
       "      <th>top 5 product_category</th>\n",
       "      <th>product_category</th>\n",
       "      <th>Porcentagem</th>\n",
       "    </tr>\n",
       "  </thead>\n",
       "  <tbody>\n",
       "    <tr>\n",
       "      <th>0</th>\n",
       "      <td>Phisical book</td>\n",
       "      <td>1298492</td>\n",
       "      <td>83.385960</td>\n",
       "    </tr>\n",
       "    <tr>\n",
       "      <th>1</th>\n",
       "      <td>Podcast</td>\n",
       "      <td>216222</td>\n",
       "      <td>13.885245</td>\n",
       "    </tr>\n",
       "    <tr>\n",
       "      <th>2</th>\n",
       "      <td>Workshop</td>\n",
       "      <td>36568</td>\n",
       "      <td>2.348307</td>\n",
       "    </tr>\n",
       "    <tr>\n",
       "      <th>3</th>\n",
       "      <td>eBook</td>\n",
       "      <td>3955</td>\n",
       "      <td>0.253980</td>\n",
       "    </tr>\n",
       "    <tr>\n",
       "      <th>4</th>\n",
       "      <td>Subscription</td>\n",
       "      <td>1970</td>\n",
       "      <td>0.126509</td>\n",
       "    </tr>\n",
       "  </tbody>\n",
       "</table>\n",
       "</div>"
      ],
      "text/plain": [
       "  top 5 product_category   product_category  Porcentagem\n",
       "0           Phisical book           1298492    83.385960\n",
       "1                 Podcast            216222    13.885245\n",
       "2                Workshop             36568     2.348307\n",
       "3                   eBook              3955     0.253980\n",
       "4            Subscription              1970     0.126509"
      ]
     },
     "execution_count": 68,
     "metadata": {},
     "output_type": "execute_result"
    }
   ],
   "source": [
    "registro1 = pd.DataFrame(df['product_category'].value_counts().head(5).reset_index())\n",
    "freq = np.array(df['product_category'].value_counts().head(5)/ df['product_category'].value_counts().head(5).sum())\n",
    "registro1['Porcentagem'] = freq *100\n",
    "registro1.rename(columns = {'index':'top 5 product_category '})"
   ]
  },
  {
   "cell_type": "code",
   "execution_count": 66,
   "id": "14ec29fe",
   "metadata": {},
   "outputs": [
    {
     "data": {
      "image/png": "[encoded data removed]",
      "text/plain": [
       "<Figure size 432x432 with 1 Axes>"
      ]
     },
     "metadata": {},
     "output_type": "display_data"
    }
   ],
   "source": [
    "labels = registro1['index']\n",
    "explode = (0, 0.2, 0.2, 0.3,0.1) \n",
    "fig1, ax1 = plt.subplots(figsize=(6, 6))\n",
    "ax1.pie(registro1['Porcentagem'], explode=explode, labels=labels, autopct='%1.1f%%',\n",
    "       shadow=True, startangle=90)  \n",
    ";\n",
    "plt.savefig('foo.png')"
   ]
  },
  {
   "cell_type": "code",
   "execution_count": 71,
   "id": "7d9bb58b",
   "metadata": {},
   "outputs": [
    {
     "data": {
      "text/plain": [
       "count    1561437.00\n",
       "mean          -0.11\n",
       "std            0.58\n",
       "min           -0.54\n",
       "25%           -0.46\n",
       "50%           -0.36\n",
       "75%            0.02\n",
       "max            3.00\n",
       "Name: purchase_value, dtype: float64"
      ]
     },
     "execution_count": 71,
     "metadata": {},
     "output_type": "execute_result"
    }
   ],
   "source": [
    "df['purchase_value'].describe().round(2)"
   ]
  }
 ],
 "metadata": {
  "kernelspec": {
   "display_name": "Python 3 (ipykernel)",
   "language": "python",
   "name": "python3"
  },
  "language_info": {
   "codemirror_mode": {
    "name": "ipython",
    "version": 3
   },
   "file_extension": ".py",
   "mimetype": "text/x-python",
   "name": "python",
   "nbconvert_exporter": "python",
   "pygments_lexer": "ipython3",
   "version": "3.9.12"
  }
 },
 "nbformat": 4,
 "nbformat_minor": 5
}
